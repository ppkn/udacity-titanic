{
 "cells": [
  {
   "cell_type": "markdown",
   "metadata": {},
   "source": [
    "# Analysis of Kaggle's Titanic Dataset\n",
    "Author: Daniel Pipkin\n",
    "\n",
    "Data about the passengers aboard the Titanic has become popular in recent years. One of the reasons for this is that the data science site [Kaggle](https://kaggle.com) uses it as an introduction to machine learning.<sup>[1](#Footnotes)</sup>"
   ]
  },
  {
   "cell_type": "code",
   "execution_count": 1,
   "metadata": {
    "collapsed": true
   },
   "outputs": [],
   "source": [
    "# Make plots show up in the notebook\n",
    "%matplotlib inline\n",
    "\n",
    "# Import needed libraries\n",
    "import numpy as np\n",
    "import pandas as pd\n",
    "import matplotlib.pyplot as plt\n",
    "from matplotlib import style\n",
    "\n",
    "# Bring an artist's touch to matplotlib's default styles\n",
    "style.use('seaborn-pastel')"
   ]
  },
  {
   "cell_type": "markdown",
   "metadata": {},
   "source": [
    "## Previewing Data\n",
    "\n",
    "Before posing any questions, it is important to take a look at the data. Here are the first couple of rows."
   ]
  },
  {
   "cell_type": "code",
   "execution_count": 2,
   "metadata": {
    "collapsed": false
   },
   "outputs": [
    {
     "data": {
      "text/html": [
       "<div>\n",
       "<table border=\"1\" class=\"dataframe\">\n",
       "  <thead>\n",
       "    <tr style=\"text-align: right;\">\n",
       "      <th></th>\n",
       "      <th>PassengerId</th>\n",
       "      <th>Survived</th>\n",
       "      <th>Pclass</th>\n",
       "      <th>Name</th>\n",
       "      <th>Sex</th>\n",
       "      <th>Age</th>\n",
       "      <th>SibSp</th>\n",
       "      <th>Parch</th>\n",
       "      <th>Ticket</th>\n",
       "      <th>Fare</th>\n",
       "      <th>Cabin</th>\n",
       "      <th>Embarked</th>\n",
       "    </tr>\n",
       "  </thead>\n",
       "  <tbody>\n",
       "    <tr>\n",
       "      <th>0</th>\n",
       "      <td>1</td>\n",
       "      <td>0</td>\n",
       "      <td>3</td>\n",
       "      <td>Braund, Mr. Owen Harris</td>\n",
       "      <td>male</td>\n",
       "      <td>22.0</td>\n",
       "      <td>1</td>\n",
       "      <td>0</td>\n",
       "      <td>A/5 21171</td>\n",
       "      <td>7.2500</td>\n",
       "      <td>NaN</td>\n",
       "      <td>S</td>\n",
       "    </tr>\n",
       "    <tr>\n",
       "      <th>1</th>\n",
       "      <td>2</td>\n",
       "      <td>1</td>\n",
       "      <td>1</td>\n",
       "      <td>Cumings, Mrs. John Bradley (Florence Briggs Th...</td>\n",
       "      <td>female</td>\n",
       "      <td>38.0</td>\n",
       "      <td>1</td>\n",
       "      <td>0</td>\n",
       "      <td>PC 17599</td>\n",
       "      <td>71.2833</td>\n",
       "      <td>C85</td>\n",
       "      <td>C</td>\n",
       "    </tr>\n",
       "    <tr>\n",
       "      <th>2</th>\n",
       "      <td>3</td>\n",
       "      <td>1</td>\n",
       "      <td>3</td>\n",
       "      <td>Heikkinen, Miss. Laina</td>\n",
       "      <td>female</td>\n",
       "      <td>26.0</td>\n",
       "      <td>0</td>\n",
       "      <td>0</td>\n",
       "      <td>STON/O2. 3101282</td>\n",
       "      <td>7.9250</td>\n",
       "      <td>NaN</td>\n",
       "      <td>S</td>\n",
       "    </tr>\n",
       "    <tr>\n",
       "      <th>3</th>\n",
       "      <td>4</td>\n",
       "      <td>1</td>\n",
       "      <td>1</td>\n",
       "      <td>Futrelle, Mrs. Jacques Heath (Lily May Peel)</td>\n",
       "      <td>female</td>\n",
       "      <td>35.0</td>\n",
       "      <td>1</td>\n",
       "      <td>0</td>\n",
       "      <td>113803</td>\n",
       "      <td>53.1000</td>\n",
       "      <td>C123</td>\n",
       "      <td>S</td>\n",
       "    </tr>\n",
       "    <tr>\n",
       "      <th>4</th>\n",
       "      <td>5</td>\n",
       "      <td>0</td>\n",
       "      <td>3</td>\n",
       "      <td>Allen, Mr. William Henry</td>\n",
       "      <td>male</td>\n",
       "      <td>35.0</td>\n",
       "      <td>0</td>\n",
       "      <td>0</td>\n",
       "      <td>373450</td>\n",
       "      <td>8.0500</td>\n",
       "      <td>NaN</td>\n",
       "      <td>S</td>\n",
       "    </tr>\n",
       "  </tbody>\n",
       "</table>\n",
       "</div>"
      ],
      "text/plain": [
       "   PassengerId  Survived  Pclass  \\\n",
       "0            1         0       3   \n",
       "1            2         1       1   \n",
       "2            3         1       3   \n",
       "3            4         1       1   \n",
       "4            5         0       3   \n",
       "\n",
       "                                                Name     Sex   Age  SibSp  \\\n",
       "0                            Braund, Mr. Owen Harris    male  22.0      1   \n",
       "1  Cumings, Mrs. John Bradley (Florence Briggs Th...  female  38.0      1   \n",
       "2                             Heikkinen, Miss. Laina  female  26.0      0   \n",
       "3       Futrelle, Mrs. Jacques Heath (Lily May Peel)  female  35.0      1   \n",
       "4                           Allen, Mr. William Henry    male  35.0      0   \n",
       "\n",
       "   Parch            Ticket     Fare Cabin Embarked  \n",
       "0      0         A/5 21171   7.2500   NaN        S  \n",
       "1      0          PC 17599  71.2833   C85        C  \n",
       "2      0  STON/O2. 3101282   7.9250   NaN        S  \n",
       "3      0            113803  53.1000  C123        S  \n",
       "4      0            373450   8.0500   NaN        S  "
      ]
     },
     "execution_count": 2,
     "metadata": {},
     "output_type": "execute_result"
    }
   ],
   "source": [
    "# Import the titanic data\n",
    "titanic_data = pd.read_csv('titanic-data.csv')\n",
    "\n",
    "# Print first couple of rows\n",
    "titanic_data.head()"
   ]
  },
  {
   "cell_type": "markdown",
   "metadata": {},
   "source": [
    "### Missing Info\n",
    "\n",
    "Above it looks like three passengers stayed in Cabin number \"NaN.\" This wasn't an actual cabin, these are just missing values. There may be other columns with missing values too."
   ]
  },
  {
   "cell_type": "code",
   "execution_count": 30,
   "metadata": {
    "collapsed": false
   },
   "outputs": [
    {
     "name": "stdout",
     "output_type": "stream",
     "text": [
      "Number of rows: 891\n"
     ]
    },
    {
     "data": {
      "text/plain": [
       "PassengerId      0\n",
       "Survived         0\n",
       "Pclass           0\n",
       "Name             0\n",
       "Sex              0\n",
       "Age            177\n",
       "SibSp            0\n",
       "Parch            0\n",
       "Ticket           0\n",
       "Fare             0\n",
       "Cabin          687\n",
       "Embarked         2\n",
       "dtype: int64"
      ]
     },
     "execution_count": 30,
     "metadata": {},
     "output_type": "execute_result"
    }
   ],
   "source": [
    "print(\"Number of rows: {}\".format(len(titanic_data)))\n",
    "titanic_data.isnull().sum()"
   ]
  },
  {
   "cell_type": "markdown",
   "metadata": {},
   "source": [
    "Above we see that *Age*, *Cabin*, and *Embarked* have missing values. *Cabin* is the worst of these with 687 of 891 values missing. These can cause problems when trying to create a predictive model. We may be missing cabin information for passengers because they didn't survive. In this case, a missing cabin number can be a predictor for survival.  \n",
    "For most of the present analysis, missing values will be included."
   ]
  },
  {
   "cell_type": "markdown",
   "metadata": {},
   "source": [
    "Each row contains information about a passenger. Some of these column names can be confusing. Thankfully Kaggle provided context<sup>[2](#Footnotes)</sup>:\n",
    "* **Survived** only has two values, 0 and 1. One means they survived and zero means they didn't.\n",
    "* **Pclass** refers to the passenger class (First Class down to steerage).\n",
    "* **Embarked** Is which port the passenger boarded the Titanic: **S**outhampton, **C**herbourg, or **Q**ueenstown\n",
    "* **SibSp**, **Parch**, and **Ticket** won't be used in this analysis, but receive their much deserved explanation in the footnotes<sup>[2](#Footnotes)</sup>"
   ]
  },
  {
   "cell_type": "markdown",
   "metadata": {},
   "source": [
    "## Posing Questions\n",
    "\n",
    "The two questions we are mainly focusing on:\n",
    "* What impact did sex, age, class, and cabin location have on chances of survival?\n",
    "* Was ticket price based on more than passenger class, e.g. did the port of embarkation play a role?\n",
    "\n",
    "This analysis will rely on:\n",
    "1. Observed differences in proportion of survivors among groups, and\n",
    "2. Differences in ticket price among groups  \n",
    "This will give an overall picture of what factors may have contributed to passengers' price and survival. It will not, however, have enough rigor to imply *how much* impact a certain factor had, or even if those factors had causal effects. I will try to make a distinction without being too stuffy about it."
   ]
  },
  {
   "cell_type": "markdown",
   "metadata": {},
   "source": [
    "#### Remarks about the data cleaning process\n",
    "\n",
    "In each step of the analysis, the data is prepared through a series of transformations with annotations using a process called \"method chaining\". I find this process easy to follow because, as Tom Augspurger put it:\n",
    ">Code is read more often than it is written. *(...)* having the story of raw data to results be told as clearly as possible will save you time.<sup>[2](#Footnotes)</sup>"
   ]
  },
  {
   "cell_type": "markdown",
   "metadata": {},
   "source": [
    "## Part I. Survivors"
   ]
  },
  {
   "cell_type": "code",
   "execution_count": 3,
   "metadata": {
    "collapsed": false
   },
   "outputs": [
    {
     "data": {
      "image/png": "[encoded data removed]",
      "text/plain": [
       "<matplotlib.figure.Figure at 0x1dbb57d8ba8>"
      ]
     },
     "metadata": {},
     "output_type": "display_data"
    }
   ],
   "source": [
    "(titanic_data['Survived'].value_counts()                     # Count how many survived\n",
    "                         .rename({0: 'Died', 1: 'Survived'}) # Rename indicies\n",
    "                         .plot(kind='pie', figsize=(6, 6),\n",
    "                               autopct='%.2f%%'))            # Show percents\n",
    "plt.title('Percent Survivors')\n",
    "plt.savefig('figures/per_survivors.png')"
   ]
  },
  {
   "cell_type": "markdown",
   "metadata": {},
   "source": [
    "### \"I'll never let go, Jack!\"\n",
    "\n",
    "So what factors did contribute to the survival of some passengers? The one thing I remember from Titanic is that Jack dies and Rose lives. (That, and Leonardo Decaprio toasting like [he does in every movie](http://www.vulture.com/2013/06/gif-history-of-leo-dicaprio-raising-glasses.html)). Let's use this as a starting point."
   ]
  },
  {
   "cell_type": "code",
   "execution_count": 4,
   "metadata": {
    "collapsed": false
   },
   "outputs": [
    {
     "name": "stdout",
     "output_type": "stream",
     "text": [
      "female    233\n",
      "male      109\n",
      "Name: Sex, dtype: int64\n"
     ]
    }
   ],
   "source": [
    "gender_survived_counts = (titanic_data.loc[titanic_data['Survived'] == 1, 'Sex'] # Select gender of just the survivors\n",
    "                                      .value_counts())                           # Get the counts of each gender\n",
    "print(gender_survived_counts)"
   ]
  },
  {
   "cell_type": "markdown",
   "metadata": {},
   "source": [
    "Wow! More than twice as many women survived as men. It's much easier to notice those types of relationships in a chart, though. Take a look."
   ]
  },
  {
   "cell_type": "code",
   "execution_count": 5,
   "metadata": {
    "collapsed": false
   },
   "outputs": [
    {
     "data": {
      "image/png": "[encoded data removed]",
      "text/plain": [
       "<matplotlib.figure.Figure at 0x1dbb58860f0>"
      ]
     },
     "metadata": {},
     "output_type": "display_data"
    }
   ],
   "source": [
    "gender_survived_counts.plot(kind='bar', rot=0)     # Rotate the labels to make them easy to read.\n",
    "plt.title('Num Survivors by Gender')\n",
    "plt.savefig('figures/num_survivors_gender.png') # To track changes in version control, all charts will be saved"
   ]
  },
  {
   "cell_type": "markdown",
   "metadata": {},
   "source": [
    "But this might be deceptive. Maybe there were just more women on the Titanic to begin with. Let's get those exact counts along with the chart this time."
   ]
  },
  {
   "cell_type": "code",
   "execution_count": 6,
   "metadata": {
    "collapsed": true
   },
   "outputs": [],
   "source": [
    "def pipe_print(x):\n",
    "    '''Prints *and* returns data\n",
    "    This is useful for printing out exact numbers before charting\n",
    "    '''\n",
    "    print(x)\n",
    "    return x"
   ]
  },
  {
   "cell_type": "code",
   "execution_count": 7,
   "metadata": {
    "collapsed": false
   },
   "outputs": [
    {
     "name": "stdout",
     "output_type": "stream",
     "text": [
      "female    314\n",
      "male      577\n",
      "Name: Sex, dtype: int64\n"
     ]
    },
    {
     "data": {
      "image/png": "[encoded data removed]",
      "text/plain": [
       "<matplotlib.figure.Figure at 0x1dbb8345f28>"
      ]
     },
     "metadata": {},
     "output_type": "display_data"
    }
   ],
   "source": [
    "(titanic_data['Sex'].value_counts()  # Count *all* passengers by gender\n",
    "                    .sort_index()     # Sort for consistent order of bars\n",
    "                    .pipe(pipe_print) # Print the exact counts\n",
    "                    .plot(kind='bar', rot=0))\n",
    "plt.title('Num Passengers by Gender')\n",
    "plt.savefig('figures/num_gender.png')"
   ]
  },
  {
   "cell_type": "markdown",
   "metadata": {},
   "source": [
    "On the contrary, men grossly outnumbered women. There is a way to take this into account while at the same time comparing survivors. Getting the *proportion* of those who survived in each group will \"normalize\" the data for a better comparison. From now on, we'll just use this approach to compare different groups of passengers."
   ]
  },
  {
   "cell_type": "code",
   "execution_count": 8,
   "metadata": {
    "collapsed": true
   },
   "outputs": [],
   "source": [
    "# This will be used a lot.\n",
    "def percent_survived(group, df=titanic_data):\n",
    "    '''Returns a series of percentages of survivors\n",
    "    of each `group`\n",
    "    '''\n",
    "    return (pd.crosstab(df[group], df['Survived'],\n",
    "                        normalize=0) # Make conditional frequency table\n",
    "              .loc[:, 1])            # Get percentage of just the survivors ('Survived' == 1)"
   ]
  },
  {
   "cell_type": "code",
   "execution_count": 9,
   "metadata": {
    "collapsed": false
   },
   "outputs": [
    {
     "name": "stdout",
     "output_type": "stream",
     "text": [
      "Sex\n",
      "female    0.742038\n",
      "male      0.188908\n",
      "Name: 1, dtype: float64\n"
     ]
    },
    {
     "data": {
      "image/png": "[encoded data removed]",
      "text/plain": [
       "<matplotlib.figure.Figure at 0x1dbb86e3be0>"
      ]
     },
     "metadata": {},
     "output_type": "display_data"
    }
   ],
   "source": [
    "(percent_survived('Sex').pipe(pipe_print) # Print percent of each gender that survived\n",
    "                        .plot(kind='bar', rot='0'))\n",
    "plt.title('% Survivors by Gender')\n",
    "plt.savefig('figures/per_survivors_gender.png')"
   ]
  },
  {
   "cell_type": "markdown",
   "metadata": {},
   "source": [
    "What does this tell us? 233 out of 314 women from our dataset survived. That means that, like the chart shows, Rose had a 74% chance of survival. Jack only had a 19% chance of getting out of there alive. Truly, theirs was a love that was never meant to be."
   ]
  },
  {
   "cell_type": "markdown",
   "metadata": {},
   "source": [
    "### \"Women and children first\"\n",
    "\n",
    "Not all male passengers were the same age as Jack, though. There were also children aboard. It is useful to consider these travelers as separate from men and women when it comes to survival. Male children would have a spot on the lifeboats and adult females may be more willing to give their life for that of a child. Some rearrangement of the data can show us the difference in those groups."
   ]
  },
  {
   "cell_type": "code",
   "execution_count": 10,
   "metadata": {
    "collapsed": true
   },
   "outputs": [],
   "source": [
    "def to_mwch(df):\n",
    "    '''Returns whether a passenger is a child\n",
    "    and if not, just returns the gender of the passenger'''\n",
    "    \n",
    "    # I figure once someone hits their teens,\n",
    "    # they aren't a child anymore. \n",
    "    if df['Age'] < 14:\n",
    "        return 'child'\n",
    "    else:\n",
    "        return df['Sex'] # Missing age values are also included here"
   ]
  },
  {
   "cell_type": "code",
   "execution_count": 11,
   "metadata": {
    "collapsed": false
   },
   "outputs": [
    {
     "name": "stdout",
     "output_type": "stream",
     "text": [
      "MWCh\n",
      "child     0.591549\n",
      "female    0.757143\n",
      "male      0.162963\n",
      "Name: 1, dtype: float64\n"
     ]
    },
    {
     "data": {
      "image/png": "[encoded data removed]",
      "text/plain": [
       "<matplotlib.figure.Figure at 0x1dbb874dd68>"
      ]
     },
     "metadata": {},
     "output_type": "display_data"
    }
   ],
   "source": [
    "(titanic_data.assign(MWCh=lambda x:                   # Set a Man, Woman, Child column\n",
    "                            x.apply(to_mwch, axis=1)) # using the above function\n",
    "            .pipe((percent_survived, 'df'), 'MWCh')   # Get percent of survivors of each group\n",
    "            .pipe(pipe_print)                         # Print exact values\n",
    "            .plot(kind='bar', rot='0'))\n",
    "\n",
    "plt.title('% Survivors by Men, Women, and Children')\n",
    "plt.savefig('figures/per_survivors_mwch.png')"
   ]
  },
  {
   "cell_type": "markdown",
   "metadata": {},
   "source": [
    "It looks like those under the age of 14 had a good chance of getting off the ship, but adult women were still better off. This might be related to a child's sensitivity to cold temperatures, and would be a good thing to look out for when reading individual accounts. The 177 passengers for which we had no age are grouped into gender here. Ideally, only adults have unknown ages, but we can't be sure why the values are missing. The hope is that missing age values for children are randomly missing. That way, the proportion of children that survived would be about the same."
   ]
  },
  {
   "cell_type": "markdown",
   "metadata": {},
   "source": [
    "### Stay classy 1912\n",
    "> Woman: I didn't know we had a king!  I thought we were autonomous collective.  \n",
    "> Dennis: You're fooling yourself!  We're living in a dictatorship!  A self-perpetuating autocracy in which the working **classes**--  \n",
    "> Woman: There you go, bringing **class** into it again...  \n",
    "> Man:\tThat's what it's all about!\n",
    "\n",
    "The Titanic [Wikipedia article](https://en.wikipedia.org/wiki/Passengers_of_the_RMS_Titanic) discusses a little bit about the socio-economic diversity of the Titanic passengers. This is what their breakdown looks like."
   ]
  },
  {
   "cell_type": "code",
   "execution_count": 12,
   "metadata": {
    "collapsed": false
   },
   "outputs": [
    {
     "name": "stdout",
     "output_type": "stream",
     "text": [
      "Pclass\n",
      "1    0.629630\n",
      "2    0.472826\n",
      "3    0.242363\n",
      "Name: 1, dtype: float64\n"
     ]
    },
    {
     "data": {
      "image/png": "[encoded data removed]",
      "text/plain": [
       "<matplotlib.figure.Figure at 0x1dbb8681128>"
      ]
     },
     "metadata": {},
     "output_type": "display_data"
    }
   ],
   "source": [
    "(percent_survived('Pclass').pipe(pipe_print)\n",
    "                           .plot(kind='bar', rot=0)) # Plot the percent survivors for each Class\n",
    "plt.title('% Survivors by Class')\n",
    "plt.savefig('figures/per_survivors_class.png')"
   ]
  },
  {
   "cell_type": "markdown",
   "metadata": {},
   "source": [
    "Woah, that actually looks pretty classist. It is easy to imagine the first class passengers being given preference while those poor lower class people had to wait for the last lifeboats. After some investigation, I discovered the truth. It wasn't this \"self perpetuating autocracy\" squashing the lower class. The steerage passengers just had a harder time getting up to the lifeboats.<sup>[2](#Footnotes)</sup>"
   ]
  },
  {
   "cell_type": "markdown",
   "metadata": {},
   "source": [
    "### Decks\n",
    "According to my research then, that observed difference is mostly due to where the passengers were staying. Thankfully, the cabin numbers give us upfront information on where the cabin was located. The first letter of each cabin number was the deck they were staying on, with the lower decks with the later letters. There is also a special deck T, but I'll get back to that."
   ]
  },
  {
   "cell_type": "code",
   "execution_count": 13,
   "metadata": {
    "collapsed": true
   },
   "outputs": [],
   "source": [
    "def to_deck(cabin):\n",
    "    '''Return the deck letter of\n",
    "    a given cabin. It is just the first letter\n",
    "    of the cabin number'''\n",
    "    \n",
    "    if pd.isnull(cabin):\n",
    "        return 'No Info'\n",
    "    else:\n",
    "        return cabin[0]"
   ]
  },
  {
   "cell_type": "code",
   "execution_count": 14,
   "metadata": {
    "collapsed": false
   },
   "outputs": [
    {
     "name": "stdout",
     "output_type": "stream",
     "text": [
      "Deck\n",
      "T          0.000000\n",
      "A          0.466667\n",
      "B          0.744681\n",
      "C          0.593220\n",
      "D          0.757576\n",
      "E          0.750000\n",
      "F          0.615385\n",
      "G          0.500000\n",
      "No Info    0.299854\n",
      "Name: 1, dtype: float64\n"
     ]
    },
    {
     "data": {
      "image/png": "[encoded data removed]",
      "text/plain": [
       "<matplotlib.figure.Figure at 0x1dbb97fdb38>"
      ]
     },
     "metadata": {},
     "output_type": "display_data"
    }
   ],
   "source": [
    "with_decks = titanic_data.assign(Deck=lambda x:            # Set the deck column\n",
    "                                x['Cabin'].apply(to_deck)) # using the function above\n",
    "\n",
    "(percent_survived('Deck', with_decks)            # Get percent of survivors of each deck\n",
    "        .reindex(list('TABCDEFG') + ['No Info']) # Sort so 'No Info' shows last\n",
    "        .pipe(pipe_print)                        # Print exact values for each percentage\n",
    "        .plot(kind='bar'))\n",
    "plt.title('% Survivors by Deck')\n",
    "plt.savefig('figures/per_survivors_deck.png')"
   ]
  },
  {
   "cell_type": "markdown",
   "metadata": {},
   "source": [
    "There is a little bit more information to unpack here. It looks like B, D, and E were the best places to be, C and F were so-so, and A and G were the worst places. It makes sense that the people on the lowest deck (G) had a low chance of survival. They were the furthest from the lifeboats. But those staying on deck A had an even lower chance. These people were presumably closest to the lifeboats. Why would they have the lowest chance of survival? After spending way too much time searching and not finding any answers, I leave this explanation as an exercise for the reader.  \n",
    "There is also a number of passengers for which we have no cabin information. There could be a couple reasons for this. Maybe they weren't assigned a cabin to begin with. But one reason that may help explain the low survival rate is that we can get more information from those who survived. We have the cabin numbers of \"those who lived to tell the tale.\" If the \"No Info\" group had survived, there might be more info.  \n",
    "It should be noted that we don't have cabin info for 77% of the passengers. We would expect this \"No Info\" group to have a similar survival rate to the total population of passengers. Overall, 38% of passengers survived, but only 30% of \"No info\" passengers survived. We just discussed why they might have a below average survival rate.\n",
    "You may have also noticed that nobody from deck T survived. T was the very top deck, also known as the \"Boat Deck.\" Here's a list T-deck passengers."
   ]
  },
  {
   "cell_type": "code",
   "execution_count": 15,
   "metadata": {
    "collapsed": false
   },
   "outputs": [
    {
     "data": {
      "text/html": [
       "<div>\n",
       "<table border=\"1\" class=\"dataframe\">\n",
       "  <thead>\n",
       "    <tr style=\"text-align: right;\">\n",
       "      <th></th>\n",
       "      <th>PassengerId</th>\n",
       "      <th>Survived</th>\n",
       "      <th>Pclass</th>\n",
       "      <th>Name</th>\n",
       "      <th>Sex</th>\n",
       "      <th>Age</th>\n",
       "      <th>SibSp</th>\n",
       "      <th>Parch</th>\n",
       "      <th>Ticket</th>\n",
       "      <th>Fare</th>\n",
       "      <th>Cabin</th>\n",
       "      <th>Embarked</th>\n",
       "    </tr>\n",
       "  </thead>\n",
       "  <tbody>\n",
       "    <tr>\n",
       "      <th>339</th>\n",
       "      <td>340</td>\n",
       "      <td>0</td>\n",
       "      <td>1</td>\n",
       "      <td>Blackwell, Mr. Stephen Weart</td>\n",
       "      <td>male</td>\n",
       "      <td>45.0</td>\n",
       "      <td>0</td>\n",
       "      <td>0</td>\n",
       "      <td>113784</td>\n",
       "      <td>35.5</td>\n",
       "      <td>T</td>\n",
       "      <td>S</td>\n",
       "    </tr>\n",
       "  </tbody>\n",
       "</table>\n",
       "</div>"
      ],
      "text/plain": [
       "     PassengerId  Survived  Pclass                          Name   Sex   Age  \\\n",
       "339          340         0       1  Blackwell, Mr. Stephen Weart  male  45.0   \n",
       "\n",
       "     SibSp  Parch  Ticket  Fare Cabin Embarked  \n",
       "339      0      0  113784  35.5     T        S  "
      ]
     },
     "execution_count": 15,
     "metadata": {},
     "output_type": "execute_result"
    }
   ],
   "source": [
    "titanic_data[with_decks['Deck'] == 'T']"
   ]
  },
  {
   "cell_type": "markdown",
   "metadata": {},
   "source": [
    "As far as we know, Mr. Blackwell was the only passenger staying on the Boat Deck.<sup>[3](#Footnotes)</sup> He was last seen in the smoking room talking to the Captain,<sup>[4](#Footnotes)</sup> who he may have met while he was up there."
   ]
  },
  {
   "cell_type": "markdown",
   "metadata": {},
   "source": [
    "---"
   ]
  },
  {
   "cell_type": "markdown",
   "metadata": {},
   "source": [
    "## Part II. The Price is Right\n",
    "\n",
    "I like to travel internationally every year. It doesn't always happen, but usually my wife can find the most amazing deals on flights. I don't often think about it, but those on the flight next to us may have paid a completely different price, even though we are both in Economy Class. There could be a number of reasons that the fares varied on the Titanic. Let's start out with some summary statistics."
   ]
  },
  {
   "cell_type": "code",
   "execution_count": 16,
   "metadata": {
    "collapsed": false
   },
   "outputs": [
    {
     "data": {
      "text/plain": [
       "count    891.000000\n",
       "mean      32.204208\n",
       "std       49.693429\n",
       "min        0.000000\n",
       "25%        7.910400\n",
       "50%       14.454200\n",
       "75%       31.000000\n",
       "max      512.329200\n",
       "Name: Fare, dtype: float64"
      ]
     },
     "execution_count": 16,
     "metadata": {},
     "output_type": "execute_result"
    }
   ],
   "source": [
    "fares = titanic_data['Fare']\n",
    "fares.describe()"
   ]
  },
  {
   "cell_type": "markdown",
   "metadata": {},
   "source": [
    "Some people got a free ride, half of the passengers got on for less than £15, 75% of people didn't have to pay more than £31, and some sucker paid £512. Wait.... £512! Sometimes it can be hard to put these numbers into perspective. £8 adjusted to 2017 US dollars is about $\\$$1080.<sup>[5](#Footnotes)</sup> Double it. Then double that number. Double it again. Now double it three more times. Did you get $\\$$69,000? Yeah, me too.  \n",
    "Those high prices will make it hard to see what the spread of *most* fares are, so let's just take a look at the bottom 90%."
   ]
  },
  {
   "cell_type": "code",
   "execution_count": 17,
   "metadata": {
    "collapsed": false
   },
   "outputs": [
    {
     "data": {
      "image/png": "[encoded data removed]",
      "text/plain": [
       "<matplotlib.figure.Figure at 0x1dbb989aac8>"
      ]
     },
     "metadata": {},
     "output_type": "display_data"
    }
   ],
   "source": [
    "ninetieth = fares.quantile(0.90)   # Get the value of the 90th percentile\n",
    "bins = np.arange(0, ninetieth, 10) # Create equal sized bins up to the 90th percentile\n",
    "\n",
    "(titanic_data.loc[titanic_data['Fare'] < ninetieth, 'Fare'] # Only get fares up to 90th percentile\n",
    "             .hist(bins=bins))\n",
    "plt.title('Fares of the Bottom 90%')\n",
    "plt.savefig('figures/fares_bottom_90.png')"
   ]
  },
  {
   "cell_type": "markdown",
   "metadata": {},
   "source": [
    "### Class is not dismissed\n",
    "\n",
    "It would make sense that higher class tickets cost more, but we should double check to make sure that's the case "
   ]
  },
  {
   "cell_type": "code",
   "execution_count": 18,
   "metadata": {
    "collapsed": false
   },
   "outputs": [
    {
     "data": {
      "image/png": "[encoded data removed]",
      "text/plain": [
       "<matplotlib.figure.Figure at 0x1dbb98ec048>"
      ]
     },
     "metadata": {},
     "output_type": "display_data"
    }
   ],
   "source": [
    "(titanic_data.pivot(columns='Pclass', values='Fare') # Reshape to make Pclass Series of fares\n",
    "             .plot(kind='box'))\n",
    "plt.title('Spread of Prices by Class (with outliers)')\n",
    "plt.savefig('figures/class_price_spread_w_outliers.png')"
   ]
  },
  {
   "cell_type": "markdown",
   "metadata": {},
   "source": [
    "Ugh, there are those high prices again, making it hard to see the general picture. Here's the same plot without the outliers."
   ]
  },
  {
   "cell_type": "code",
   "execution_count": 19,
   "metadata": {
    "collapsed": false
   },
   "outputs": [
    {
     "data": {
      "image/png": "[encoded data removed]",
      "text/plain": [
       "<matplotlib.figure.Figure at 0x1dbb99414a8>"
      ]
     },
     "metadata": {},
     "output_type": "display_data"
    }
   ],
   "source": [
    "(titanic_data.pivot(columns='Pclass', values='Fare')\n",
    "             .plot(kind='box', showfliers=False)) # Remove outliers\n",
    "plt.title('Spread of Prices by Class')\n",
    "plt.savefig('figures/class_price_spread.png')"
   ]
  },
  {
   "cell_type": "markdown",
   "metadata": {},
   "source": [
    "There are two things I noticed about these boxplots: the difference in spread and the overlap of prices. The first class tickets vary much more than the others. The variation decreases with class. There is also overlap between the upper fences of the classes with the body of the boxes in the higher class. For example, second class has an upper fence just below £50, but the lower 25% of first class is down around £35~40. Maybe those passengers should have upgraded."
   ]
  },
  {
   "cell_type": "markdown",
   "metadata": {},
   "source": [
    "### Deck C is the place to be"
   ]
  },
  {
   "cell_type": "markdown",
   "metadata": {},
   "source": [
    "Separating the fares by decks may also reveal some information in price differences. "
   ]
  },
  {
   "cell_type": "code",
   "execution_count": 20,
   "metadata": {
    "collapsed": false
   },
   "outputs": [
    {
     "data": {
      "image/png": "[encoded data removed]",
      "text/plain": [
       "<matplotlib.figure.Figure at 0x1dbb82debe0>"
      ]
     },
     "metadata": {},
     "output_type": "display_data"
    }
   ],
   "source": [
    "(titanic_data.assign(Deck=lambda x:              # Add deck column using\n",
    "                    x['Cabin'].apply(to_deck))   # function from above\n",
    "            .pivot(columns='Deck', values='Fare')\n",
    "            [list('TABCDEFG') + ['No Info']]     # Sort from top to bottom\n",
    "            .plot(kind='box', showfliers=False)) # Remove outliers\n",
    "plt.title('Spread of Prices by Deck')\n",
    "plt.savefig('figures/deck_price_spread.png')"
   ]
  },
  {
   "cell_type": "markdown",
   "metadata": {},
   "source": [
    "Most of the price variation comes from the B and C decks. These decks probably housed first class passengers, who seem to be more vulnerable to [information asymmetry](https://en.wikipedia.org/wiki/Information_asymmetry).  \n",
    "Remember that most of our passengers fell into the \"No Info\" category, so we can't be certain that this is representative of all the deck prices on the Titanic."
   ]
  },
  {
   "cell_type": "markdown",
   "metadata": {},
   "source": [
    "### Now arriving at...\n",
    "\n",
    "The Titanic stopped at three ports before crossing the Atlantic. One would expect there to be a discount for hopping on later, but sometimes our expectations aren't correct. Let's find out!"
   ]
  },
  {
   "cell_type": "code",
   "execution_count": 21,
   "metadata": {
    "collapsed": false
   },
   "outputs": [
    {
     "data": {
      "image/png": "[encoded data removed]",
      "text/plain": [
       "<matplotlib.figure.Figure at 0x1dbb9828518>"
      ]
     },
     "metadata": {},
     "output_type": "display_data"
    }
   ],
   "source": [
    "(titanic_data.groupby(['Embarked', 'Pclass']) # We'll want to split the fares up by class as well as embarked\n",
    "            ['Fare'].median()                 # Get the median for each port of embarkation for each class\n",
    "            .unstack(level=1)                 # Unstack class to columns\n",
    "            .reindex(list('SCQ'))             # Reindex to put in chronological order\n",
    "            .plot(subplots=True, figsize=(6, 6)))\n",
    "plt.gcf().suptitle('Price from Ports: By Class')\n",
    "plt.gcf().savefig('figures/price_from_ports.png')"
   ]
  },
  {
   "cell_type": "markdown",
   "metadata": {},
   "source": [
    "Above I used the median fare at each port for each class. Again, those outliers we saw earlier tend to make our data dirty. Using the median to summarize the fare at each port helps us get an idea of what *most* passengers dealt with. This is by far the strangest data I've seen in this set. More than anything, it seems to indicate that port wasn't a factor in the fare at all. The first class passengers paid **more** for shorter trips and the second class passengers paid a premium to get on in the middle."
   ]
  },
  {
   "cell_type": "markdown",
   "metadata": {},
   "source": [
    "## Conclusion\n",
    "\n",
    "We started this analysis off by looking at the trait differences among the survivors. Gender and age played a big role, as well as socio-economic status. After checking out the differences of the decks, I'm not convinced that explains the variation among groups of different classes.  \n",
    "On a lighter note, we saw how much the prices can vary, even among the groups of passengers. Splitting it up by deck and port of embarkation didn't help much either.  \n",
    "While at times it seemed to ask more questions than it answered, I would argue that might be the whole point of doing an analysis. What might seem boring at surface level can contain hidden complexities that fuel our curiousity to learn more. Breaking things down and looking at them from multiple points of view brings an appreciation of nuance that we wouldn't otherwise have."
   ]
  },
  {
   "cell_type": "markdown",
   "metadata": {},
   "source": [
    "# Footnotes\n",
    "1. https://www.kaggle.com/c/titanic\n",
    "> If you're new to data science and machine learning, or looking for a simple intro to the Kaggle competitions platform, this is the best place to start.\n",
    "2. https://www.kaggle.com/c/titanic/data\n",
    "\n",
    "```\n",
    "VARIABLE DESCRIPTIONS:\n",
    "survival        Survival\n",
    "                (0 = No; 1 = Yes)\n",
    "pclass          Passenger Class\n",
    "                (1 = 1st; 2 = 2nd; 3 = 3rd)\n",
    "name            Name\n",
    "sex             Sex\n",
    "age             Age\n",
    "sibsp           Number of Siblings/Spouses Aboard\n",
    "parch           Number of Parents/Children Aboard\n",
    "ticket          Ticket Number\n",
    "fare            Passenger Fare\n",
    "cabin           Cabin\n",
    "embarked        Port of Embarkation\n",
    "                (C = Cherbourg; Q = Queenstown; S = Southampton)\n",
    "SPECIAL NOTES:\n",
    "Pclass is a proxy for socio-economic status (SES)\n",
    " 1st ~ Upper; 2nd ~ Middle; 3rd ~ Lower\n",
    "\n",
    "Age is in Years; Fractional if Age less than One (1)\n",
    " If the Age is Estimated, it is in the form xx.5\n",
    "\n",
    "With respect to the family relation variables (i.e. sibsp and parch)\n",
    "some relations were ignored.\n",
    "```\n",
    "3.https://tomaugspurger.github.io/method-chaining.html  \n",
    "4.http://www.bbc.com/news/magazine-17515305  \n",
    "> Evidence given at the inquiry did suggest that initially some of the gates blocked the way of steerage passengers as stewards waited for instructions and that they were then opened, but only after most of the lifeboats had launched *(...)*  \n",
    "> None of the evidence presented pointed to any malicious intent to obstruct third class passengers - but rather an oversight caused by unthinking obedience to the regulations, but the results were still deadly.  \n",
    "\n",
    "5.https://www.encyclopedia-titanica.org/titanic-victim/stephen-weart-blackwell.html  \n",
    "6.https://www.encyclopedia-titanica.org/cabins.html"
   ]
  }
 ],
 "metadata": {
  "anaconda-cloud": {},
  "kernelspec": {
   "display_name": "Python [conda env:udacity-titanic]",
   "language": "python",
   "name": "conda-env-udacity-titanic-py"
  },
  "language_info": {
   "codemirror_mode": {
    "name": "ipython",
    "version": 3
   },
   "file_extension": ".py",
   "mimetype": "text/x-python",
   "name": "python",
   "nbconvert_exporter": "python",
   "pygments_lexer": "ipython3",
   "version": "3.5.2"
  }
 },
 "nbformat": 4,
 "nbformat_minor": 2
}

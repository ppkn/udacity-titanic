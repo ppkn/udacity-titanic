{
 "cells": [
  {
   "cell_type": "markdown",
   "metadata": {},
   "source": [
    "# Analysis of Kaggle's Titanic Dataset\n",
    "Author: Daniel Pipkin\n",
    "\n",
    "Data about the passengers aboard the Titanic has become popular in recent years. One of the reasons for this is that the data science site [Kaggle](https://kaggle.com) uses it as an introduction to machine learning<sup>[1](#Footnotes)</sup>"
   ]
  },
  {
   "cell_type": "code",
   "execution_count": 1,
   "metadata": {
    "collapsed": true
   },
   "outputs": [],
   "source": [
    "# Make plots show up in the notebook\n",
    "%matplotlib inline\n",
    "\n",
    "# Import needed libraries\n",
    "import numpy as np\n",
    "import pandas as pd\n",
    "import matplotlib.pyplot as plt\n",
    "from matplotlib import style\n",
    "\n",
    "# Bring an artist's touch to matplotlib's default styles\n",
    "style.use('seaborn-pastel')"
   ]
  },
  {
   "cell_type": "markdown",
   "metadata": {},
   "source": [
    "## Previewing Data\n",
    "\n",
    "Before posing any questions, it is important to take a look at the data. Here are the first couple of rows."
   ]
  },
  {
   "cell_type": "code",
   "execution_count": 19,
   "metadata": {
    "collapsed": false
   },
   "outputs": [
    {
     "data": {
      "text/html": [
       "<div>\n",
       "<table border=\"1\" class=\"dataframe\">\n",
       "  <thead>\n",
       "    <tr style=\"text-align: right;\">\n",
       "      <th></th>\n",
       "      <th>PassengerId</th>\n",
       "      <th>Survived</th>\n",
       "      <th>Pclass</th>\n",
       "      <th>Name</th>\n",
       "      <th>Sex</th>\n",
       "      <th>Age</th>\n",
       "      <th>SibSp</th>\n",
       "      <th>Parch</th>\n",
       "      <th>Ticket</th>\n",
       "      <th>Fare</th>\n",
       "      <th>Cabin</th>\n",
       "      <th>Embarked</th>\n",
       "    </tr>\n",
       "  </thead>\n",
       "  <tbody>\n",
       "    <tr>\n",
       "      <th>0</th>\n",
       "      <td>1</td>\n",
       "      <td>0</td>\n",
       "      <td>3</td>\n",
       "      <td>Braund, Mr. Owen Harris</td>\n",
       "      <td>male</td>\n",
       "      <td>22.0</td>\n",
       "      <td>1</td>\n",
       "      <td>0</td>\n",
       "      <td>A/5 21171</td>\n",
       "      <td>7.2500</td>\n",
       "      <td>NaN</td>\n",
       "      <td>S</td>\n",
       "    </tr>\n",
       "    <tr>\n",
       "      <th>1</th>\n",
       "      <td>2</td>\n",
       "      <td>1</td>\n",
       "      <td>1</td>\n",
       "      <td>Cumings, Mrs. John Bradley (Florence Briggs Th...</td>\n",
       "      <td>female</td>\n",
       "      <td>38.0</td>\n",
       "      <td>1</td>\n",
       "      <td>0</td>\n",
       "      <td>PC 17599</td>\n",
       "      <td>71.2833</td>\n",
       "      <td>C85</td>\n",
       "      <td>C</td>\n",
       "    </tr>\n",
       "    <tr>\n",
       "      <th>2</th>\n",
       "      <td>3</td>\n",
       "      <td>1</td>\n",
       "      <td>3</td>\n",
       "      <td>Heikkinen, Miss. Laina</td>\n",
       "      <td>female</td>\n",
       "      <td>26.0</td>\n",
       "      <td>0</td>\n",
       "      <td>0</td>\n",
       "      <td>STON/O2. 3101282</td>\n",
       "      <td>7.9250</td>\n",
       "      <td>NaN</td>\n",
       "      <td>S</td>\n",
       "    </tr>\n",
       "    <tr>\n",
       "      <th>3</th>\n",
       "      <td>4</td>\n",
       "      <td>1</td>\n",
       "      <td>1</td>\n",
       "      <td>Futrelle, Mrs. Jacques Heath (Lily May Peel)</td>\n",
       "      <td>female</td>\n",
       "      <td>35.0</td>\n",
       "      <td>1</td>\n",
       "      <td>0</td>\n",
       "      <td>113803</td>\n",
       "      <td>53.1000</td>\n",
       "      <td>C123</td>\n",
       "      <td>S</td>\n",
       "    </tr>\n",
       "    <tr>\n",
       "      <th>4</th>\n",
       "      <td>5</td>\n",
       "      <td>0</td>\n",
       "      <td>3</td>\n",
       "      <td>Allen, Mr. William Henry</td>\n",
       "      <td>male</td>\n",
       "      <td>35.0</td>\n",
       "      <td>0</td>\n",
       "      <td>0</td>\n",
       "      <td>373450</td>\n",
       "      <td>8.0500</td>\n",
       "      <td>NaN</td>\n",
       "      <td>S</td>\n",
       "    </tr>\n",
       "  </tbody>\n",
       "</table>\n",
       "</div>"
      ],
      "text/plain": [
       "   PassengerId  Survived  Pclass  \\\n",
       "0            1         0       3   \n",
       "1            2         1       1   \n",
       "2            3         1       3   \n",
       "3            4         1       1   \n",
       "4            5         0       3   \n",
       "\n",
       "                                                Name     Sex   Age  SibSp  \\\n",
       "0                            Braund, Mr. Owen Harris    male  22.0      1   \n",
       "1  Cumings, Mrs. John Bradley (Florence Briggs Th...  female  38.0      1   \n",
       "2                             Heikkinen, Miss. Laina  female  26.0      0   \n",
       "3       Futrelle, Mrs. Jacques Heath (Lily May Peel)  female  35.0      1   \n",
       "4                           Allen, Mr. William Henry    male  35.0      0   \n",
       "\n",
       "   Parch            Ticket     Fare Cabin Embarked  \n",
       "0      0         A/5 21171   7.2500   NaN        S  \n",
       "1      0          PC 17599  71.2833   C85        C  \n",
       "2      0  STON/O2. 3101282   7.9250   NaN        S  \n",
       "3      0            113803  53.1000  C123        S  \n",
       "4      0            373450   8.0500   NaN        S  "
      ]
     },
     "execution_count": 19,
     "metadata": {},
     "output_type": "execute_result"
    }
   ],
   "source": [
    "# Import the titanic data\n",
    "titanic_data = pd.read_csv('titanic-data.csv')\n",
    "\n",
    "# Print first couple of rows\n",
    "titanic_data.head()"
   ]
  },
  {
   "cell_type": "markdown",
   "metadata": {},
   "source": [
    "Information about each column can be found [here](https://www.kaggle.com/c/titanic/data)"
   ]
  },
  {
   "cell_type": "markdown",
   "metadata": {},
   "source": [
    "## Posing Questions\n",
    "\n",
    "The two questions we are mainly focusing on:\n",
    "* What factors made people more likely to survive? (Women, Children, Upper Class)\n",
    "    More Women survived. What about children? More first-class passengers survived. Is there an alternative explanation.\n",
    "* Was ticket price based on more than passenger class?\n",
    "\n",
    "To answer these questions, I'm going to follow a simple loop:\n",
    "1. Hypothesize an explanation for the question.\n",
    "2. Gather items needed to investigate the hypothesis.\n",
    "3. Investigate the relationship with one or more visualizations.\n",
    "4. Draw a conclusion, then pose another hypothesis for further investigation."
   ]
  },
  {
   "cell_type": "code",
   "execution_count": 46,
   "metadata": {
    "collapsed": false
   },
   "outputs": [
    {
     "data": {
      "image/png": "[encoded data removed]",
      "text/plain": [
       "<matplotlib.figure.Figure at 0x19b2aa25c50>"
      ]
     },
     "metadata": {},
     "output_type": "display_data"
    }
   ],
   "source": [
    "(titanic_data['Survived'].value_counts()                     # Count how many survived\n",
    "                         .rename({0: 'Died', 1: 'Survived'}) # Rename indicies\n",
    "                         .plot(kind='pie', figsize=(6, 6),\n",
    "                               autopct='%.2f%%'))            # Show percents\n",
    "plt.title('Percent Survivors')\n",
    "plt.savefig('figures/per_survivors.png')"
   ]
  },
  {
   "cell_type": "markdown",
   "metadata": {},
   "source": [
    "## \"I'll never let go, Jack!\"\n",
    "\n",
    "So what factors did contribute to the survival of some passengers? The one thing I remember from Titanic is that Jack dies and Rose lives. (That, and Leonardo Decaprio toasting like [he does in every movie](http://www.vulture.com/2013/06/gif-history-of-leo-dicaprio-raising-glasses.html)). Let's use this as a starting point.  \n",
    "**Hypothesis:** Women survived more than men  \n",
    "Now it's time to gather the needed information."
   ]
  },
  {
   "cell_type": "code",
   "execution_count": null,
   "metadata": {
    "collapsed": true
   },
   "outputs": [],
   "source": [
    "# Most of this code is going to follow a convention described\n",
    "# in https://tomaugspurger.github.io/method-chaining.html"
   ]
  },
  {
   "cell_type": "code",
   "execution_count": 81,
   "metadata": {
    "collapsed": false
   },
   "outputs": [],
   "source": [
    "gender_survived_counts = (titanic_data.loc[titanic_data['Survived'] == 1, 'Sex'] # Select gender of just the survivors\n",
    "                                      .value_counts())                           # Get the counts of each gender"
   ]
  },
  {
   "cell_type": "markdown",
   "metadata": {},
   "source": [
    "Wow! More than twice as many women survived than men, but it's much easier to notice those types of relationships in a chart."
   ]
  },
  {
   "cell_type": "code",
   "execution_count": 82,
   "metadata": {
    "collapsed": false
   },
   "outputs": [
    {
     "data": {
      "image/png": "[encoded data removed]",
      "text/plain": [
       "<matplotlib.figure.Figure at 0x19b2b1a8358>"
      ]
     },
     "metadata": {},
     "output_type": "display_data"
    }
   ],
   "source": [
    "gender_survived_counts.plot(kind='bar', rot=0)     # Rotate the labels to make them easy to read.\n",
    "plt.title('Num Survivors by Gender')\n",
    "plt.savefig('figures/num_survivors_gender.png') # To track changes in version control, all charts will be saved"
   ]
  },
  {
   "cell_type": "markdown",
   "metadata": {},
   "source": [
    "But this might be deceptive. Maybe there were just more women on the titanic."
   ]
  },
  {
   "cell_type": "code",
   "execution_count": 7,
   "metadata": {
    "collapsed": true
   },
   "outputs": [],
   "source": [
    "def pipe_print(x):\n",
    "    '''Prints *and* returns data\n",
    "    This is useful for printing out exact numbers before charting\n",
    "    '''\n",
    "    print(x)\n",
    "    return x"
   ]
  },
  {
   "cell_type": "code",
   "execution_count": 84,
   "metadata": {
    "collapsed": false
   },
   "outputs": [
    {
     "name": "stdout",
     "output_type": "stream",
     "text": [
      "female    314\n",
      "male      577\n",
      "Name: Sex, dtype: int64\n"
     ]
    },
    {
     "data": {
      "image/png": "[encoded data removed]",
      "text/plain": [
       "<matplotlib.figure.Figure at 0x19b2c5aa7f0>"
      ]
     },
     "metadata": {},
     "output_type": "display_data"
    }
   ],
   "source": [
    "(titanic_data['Sex'].value_counts()  # Count *all* passengers by gender\n",
    "                   .sort_index()     # Sort for consistent order of bars\n",
    "                   .pipe(pipe_print) # Print the exact counts\n",
    "                   .plot(kind='bar', rot=0))\n",
    "plt.title('Num Passengers by Gender')\n",
    "plt.savefig('figures/num_gender.png')"
   ]
  },
  {
   "cell_type": "markdown",
   "metadata": {},
   "source": [
    "Normalize view so that it represents proportion of population"
   ]
  },
  {
   "cell_type": "code",
   "execution_count": null,
   "metadata": {
    "collapsed": true
   },
   "outputs": [],
   "source": [
    "def percent_survived(group, df=titanic_data):\n",
    "    '''Returns a series of percentages of survivors\n",
    "    of each `group`\n",
    "    '''\n",
    "    return (pd.crosstab(df[group], df['Survived'],\n",
    "                        normalize=0) # Make conditional frequency table\n",
    "              .loc[:, 1])            # Get percentage of just the survivors ('Survived' == 1)"
   ]
  },
  {
   "cell_type": "code",
   "execution_count": 83,
   "metadata": {
    "collapsed": false
   },
   "outputs": [
    {
     "name": "stdout",
     "output_type": "stream",
     "text": [
      "Sex\n",
      "female    0.742038\n",
      "male      0.188908\n",
      "Name: 1, dtype: float64\n"
     ]
    },
    {
     "data": {
      "image/png": "[encoded data removed]",
      "text/plain": [
       "<matplotlib.figure.Figure at 0x19b2b1c4780>"
      ]
     },
     "metadata": {},
     "output_type": "display_data"
    }
   ],
   "source": [
    "(percent_survived('Sex').pipe(pipe_print) # Print percent of each gender that survived\n",
    "                        .plot(kind='bar', rot='0'))\n",
    "plt.title('% Survivors by Gender')\n",
    "plt.savefig('figures/per_survivors_gender.png')"
   ]
  },
  {
   "cell_type": "markdown",
   "metadata": {},
   "source": [
    "It looks like an even higher percentage of females survived compared to males"
   ]
  },
  {
   "cell_type": "markdown",
   "metadata": {},
   "source": [
    "## Women and Children First\n",
    "\n",
    "Let's see how men, women, and children compare."
   ]
  },
  {
   "cell_type": "code",
   "execution_count": null,
   "metadata": {
    "collapsed": true
   },
   "outputs": [],
   "source": [
    "def to_mwch(df):\n",
    "    '''Returns whether a passenger is a child\n",
    "    and if not, just returns the gender of the passenger'''\n",
    "    \n",
    "    # I figure once someone hits their teens,\n",
    "    # they aren't a child anymore. \n",
    "    if df['Age'] < 14:\n",
    "        return 'child'\n",
    "    else:\n",
    "        return df['Sex']"
   ]
  },
  {
   "cell_type": "code",
   "execution_count": 10,
   "metadata": {
    "collapsed": false
   },
   "outputs": [
    {
     "name": "stdout",
     "output_type": "stream",
     "text": [
      "MWCh\n",
      "child     0.591549\n",
      "female    0.757143\n",
      "male      0.162963\n",
      "Name: 1, dtype: float64\n"
     ]
    },
    {
     "data": {
      "image/png": "[encoded data removed]",
      "text/plain": [
       "<matplotlib.figure.Figure at 0x19b285c2a90>"
      ]
     },
     "metadata": {},
     "output_type": "display_data"
    }
   ],
   "source": [
    "(titanic_data.assign(MWCh=lambda x:                   # Set a Man, Woman, Child column\n",
    "                            x.apply(to_mwch, axis=1)) # using the above function\n",
    "            .pipe((percent_survived, 'df'), 'MWCh')   # Get percent of survivors of each group\n",
    "            .pipe(pipe_print)                         # Print exact values\n",
    "            .plot(kind='bar', rot='0'))\n",
    "\n",
    "plt.title('% Survivors by Men, Women, and Children')\n",
    "plt.savefig('figures/per_survivors_mwch.png')"
   ]
  },
  {
   "cell_type": "markdown",
   "metadata": {},
   "source": [
    "## Stay classy 1912\n",
    "> Woman: I didn't know we had a king!  I thought we were autonomous collective.  \n",
    "> Dennis: You're fooling yourself!  We're living in a dictatorship!  A self-perpetuating autocracy in which the working **classes**--  \n",
    "> Woman: There you go, bringing **class** into it again...  \n",
    "\n",
    "Women and children first, but maybe class had something to do with it too. The lower class may have some injuries and would have been helped."
   ]
  },
  {
   "cell_type": "code",
   "execution_count": 76,
   "metadata": {
    "collapsed": false
   },
   "outputs": [
    {
     "data": {
      "image/png": "[encoded data removed]",
      "text/plain": [
       "<matplotlib.figure.Figure at 0x19b2aa843c8>"
      ]
     },
     "metadata": {},
     "output_type": "display_data"
    }
   ],
   "source": [
    "percent_survived('Pclass').plot(kind='bar', rot=0) # Plot the percent survivors for each Class\n",
    "plt.title('% Survivors by Class')\n",
    "plt.savefig('figures/per_survivors_class.png')"
   ]
  },
  {
   "cell_type": "markdown",
   "metadata": {},
   "source": [
    "The lower class passengers just had a harder time getting to the deck<sup>[2](#Footnotes)</sup>"
   ]
  },
  {
   "cell_type": "markdown",
   "metadata": {},
   "source": [
    "## Deck\n",
    "Maybe their deck had something to do with it."
   ]
  },
  {
   "cell_type": "code",
   "execution_count": 12,
   "metadata": {
    "collapsed": true
   },
   "outputs": [],
   "source": [
    "def to_deck(cabin):\n",
    "    '''Return the deck letter of\n",
    "    a given cabin. It is just the first letter\n",
    "    of the cabin number'''\n",
    "    \n",
    "    if pd.isnull(cabin):\n",
    "        return 'No Info'\n",
    "    else:\n",
    "        return cabin[0]"
   ]
  },
  {
   "cell_type": "code",
   "execution_count": 85,
   "metadata": {
    "collapsed": false
   },
   "outputs": [
    {
     "name": "stdout",
     "output_type": "stream",
     "text": [
      "Deck\n",
      "A          0.466667\n",
      "B          0.744681\n",
      "C          0.593220\n",
      "D          0.757576\n",
      "E          0.750000\n",
      "F          0.615385\n",
      "G          0.500000\n",
      "T          0.000000\n",
      "No Info    0.299854\n",
      "Name: 1, dtype: float64\n"
     ]
    },
    {
     "data": {
      "image/png": "[encoded data removed]",
      "text/plain": [
       "<matplotlib.figure.Figure at 0x19b2c60fbe0>"
      ]
     },
     "metadata": {},
     "output_type": "display_data"
    }
   ],
   "source": [
    "(titanic_data.assign(Deck=lambda x:                  # Set the deck column\n",
    "                    x['Cabin'].apply(to_deck))       # using the function above\n",
    "            .pipe((percent_survived, 'df'), 'Deck')  # Get percent of survivors of each deck\n",
    "            .reindex(list('ABCDEFGT') + ['No Info']) # Sort so 'No Info' shows last\n",
    "            .pipe(pipe_print)                        # Print exact values for each percentage\n",
    "            .plot(kind='bar'))\n",
    "plt.title('% Survivors by Deck')\n",
    "plt.savefig('figures/per_survivors_deck.png')"
   ]
  },
  {
   "cell_type": "markdown",
   "metadata": {},
   "source": [
    "As expected, lower number of survivors in the 'No Info' group. If they had survived, there would be more info. What about people on deck T?"
   ]
  },
  {
   "cell_type": "code",
   "execution_count": 75,
   "metadata": {
    "collapsed": false
   },
   "outputs": [
    {
     "data": {
      "text/html": [
       "<div>\n",
       "<table border=\"1\" class=\"dataframe\">\n",
       "  <thead>\n",
       "    <tr style=\"text-align: right;\">\n",
       "      <th></th>\n",
       "      <th>PassengerId</th>\n",
       "      <th>Survived</th>\n",
       "      <th>Pclass</th>\n",
       "      <th>Name</th>\n",
       "      <th>Sex</th>\n",
       "      <th>Age</th>\n",
       "      <th>SibSp</th>\n",
       "      <th>Parch</th>\n",
       "      <th>Ticket</th>\n",
       "      <th>Fare</th>\n",
       "      <th>Cabin</th>\n",
       "      <th>Embarked</th>\n",
       "    </tr>\n",
       "  </thead>\n",
       "  <tbody>\n",
       "    <tr>\n",
       "      <th>339</th>\n",
       "      <td>340</td>\n",
       "      <td>0</td>\n",
       "      <td>1</td>\n",
       "      <td>Blackwell, Mr. Stephen Weart</td>\n",
       "      <td>male</td>\n",
       "      <td>45.0</td>\n",
       "      <td>0</td>\n",
       "      <td>0</td>\n",
       "      <td>113784</td>\n",
       "      <td>35.5</td>\n",
       "      <td>T</td>\n",
       "      <td>S</td>\n",
       "    </tr>\n",
       "  </tbody>\n",
       "</table>\n",
       "</div>"
      ],
      "text/plain": [
       "     PassengerId  Survived  Pclass                          Name   Sex   Age  \\\n",
       "339          340         0       1  Blackwell, Mr. Stephen Weart  male  45.0   \n",
       "\n",
       "     SibSp  Parch  Ticket  Fare Cabin Embarked  \n",
       "339      0      0  113784  35.5     T        S  "
      ]
     },
     "execution_count": 75,
     "metadata": {},
     "output_type": "execute_result"
    }
   ],
   "source": [
    "titanic_data[titanic_data['Cabin'] == 'T']"
   ]
  },
  {
   "cell_type": "markdown",
   "metadata": {},
   "source": [
    "He was the passenger staying on the boat deck<sup>[3](#Footnotes)</sup>, which might be why he was last seen in the smoking room talking to the Captain<sup>[4](#Footnotes)</sup>."
   ]
  },
  {
   "cell_type": "markdown",
   "metadata": {},
   "source": [
    "## The Price is Right\n",
    "\n",
    "I was wondering if some people had to pay different prices for different classes."
   ]
  },
  {
   "cell_type": "code",
   "execution_count": 61,
   "metadata": {
    "collapsed": false
   },
   "outputs": [
    {
     "data": {
      "text/plain": [
       "count    891.000000\n",
       "mean      32.204208\n",
       "std       49.693429\n",
       "min        0.000000\n",
       "25%        7.910400\n",
       "50%       14.454200\n",
       "75%       31.000000\n",
       "max      512.329200\n",
       "Name: Fare, dtype: float64"
      ]
     },
     "execution_count": 61,
     "metadata": {},
     "output_type": "execute_result"
    }
   ],
   "source": [
    "fares = titanic_data['Fare']\n",
    "fares.describe()"
   ]
  },
  {
   "cell_type": "code",
   "execution_count": 86,
   "metadata": {
    "collapsed": false
   },
   "outputs": [
    {
     "data": {
      "image/png": "[encoded data removed]",
      "text/plain": [
       "<matplotlib.figure.Figure at 0x19b2c6ed0f0>"
      ]
     },
     "metadata": {},
     "output_type": "display_data"
    }
   ],
   "source": [
    "ninetieth = fares.quantile(0.90)   # Get the value of the 90th percentile\n",
    "bins = np.arange(0, ninetieth, 10) # Create equal sized bins up to the 90th percentile\n",
    "\n",
    "(titanic_data.loc[titanic_data['Fare'] < ninetieth, 'Fare'] # Only get fares up to 90th percentile\n",
    "             .hist(bins=bins))\n",
    "plt.title('Fares of the Bottom 90%')\n",
    "plt.savefig('figures/fares_bottom_90.png')"
   ]
  },
  {
   "cell_type": "code",
   "execution_count": 15,
   "metadata": {
    "collapsed": false
   },
   "outputs": [
    {
     "data": {
      "image/png": "[encoded data removed]",
      "text/plain": [
       "<matplotlib.figure.Figure at 0x19b2872ea58>"
      ]
     },
     "metadata": {},
     "output_type": "display_data"
    }
   ],
   "source": [
    "(titanic_data.pivot(columns='Pclass', values='Fare') # Reshape to make Pclass Series of fares\n",
    "             .plot(kind='box'))\n",
    "plt.title('Spread of Prices by Class (with outliers)')\n",
    "plt.savefig('figures/class_price_spread_w_outliers.png')"
   ]
  },
  {
   "cell_type": "code",
   "execution_count": 87,
   "metadata": {
    "collapsed": false
   },
   "outputs": [
    {
     "data": {
      "image/png": "[encoded data removed]",
      "text/plain": [
       "<matplotlib.figure.Figure at 0x19b2c5cddd8>"
      ]
     },
     "metadata": {},
     "output_type": "display_data"
    }
   ],
   "source": [
    "(titanic_data.pivot(columns='Pclass', values='Fare')\n",
    "             .plot(kind='box', showfliers=False)) # Remove outliers\n",
    "plt.title('Spread of Prices by Class')\n",
    "plt.savefig('figures/class_price_spread.png')"
   ]
  },
  {
   "cell_type": "markdown",
   "metadata": {},
   "source": [
    "Maybe something to do with the deck they are on?"
   ]
  },
  {
   "cell_type": "code",
   "execution_count": 90,
   "metadata": {
    "collapsed": false
   },
   "outputs": [
    {
     "data": {
      "image/png": "[encoded data removed]",
      "text/plain": [
       "<matplotlib.figure.Figure at 0x19b2c9fd400>"
      ]
     },
     "metadata": {},
     "output_type": "display_data"
    }
   ],
   "source": [
    "(titanic_data.assign(Deck=lambda x:              # Add deck column\n",
    "                    x['Cabin'].apply(to_deck))   # using function from above\n",
    "            .pivot(columns='Deck', values='Fare')\n",
    "            [list('ABCDEFGT') + ['No Info']]     # Sort so No Info shows last\n",
    "            .plot(kind='box', showfliers=False)) # Remove outliers\n",
    "plt.title('Spread of Prices by Deck')\n",
    "plt.savefig('figures/deck_price_spread.png')"
   ]
  },
  {
   "cell_type": "markdown",
   "metadata": {},
   "source": [
    "How about ports because I want to mix things up with a line graph"
   ]
  },
  {
   "cell_type": "code",
   "execution_count": 91,
   "metadata": {
    "collapsed": false
   },
   "outputs": [
    {
     "data": {
      "image/png": "[encoded data removed]",
      "text/plain": [
       "<matplotlib.figure.Figure at 0x19b2adfc7f0>"
      ]
     },
     "metadata": {},
     "output_type": "display_data"
    }
   ],
   "source": [
    "(titanic_data.groupby(['Embarked', 'Pclass']) # We'll want to split the fares up by class as well as embarked\n",
    "            ['Fare'].median()                 # Get the median for each port of embarkation for each class\n",
    "            .unstack(level=1)                 # Unstack class to columns\n",
    "            .reindex(list('SCQ'))             # Rein\n",
    "            .plot(subplots=True, figsize=(6, 6)))\n",
    "plt.gcf().suptitle('Price from Ports: By Class')\n",
    "plt.gcf().savefig('figures/price_from_ports.png')"
   ]
  },
  {
   "cell_type": "markdown",
   "metadata": {},
   "source": [
    "# Footnotes\n",
    "1. https://www.kaggle.com/c/titanic\n",
    "> If you're new to data science and machine learning, or looking for a simple intro to the Kaggle competitions platform, this is the best place to start.\n",
    "1. http://www.bbc.com/news/magazine-17515305\n",
    "> Evidence given at the inquiry did suggest that initially some of the gates blocked the way of steerage passengers as stewards waited for instructions and that they were then opened, but only after most of the lifeboats had launched(...)  \n",
    "> None of the evidence presented pointed to any malicious intent to obstruct third class passengers - but rather an oversight caused by unthinking obedience to the regulations, but the results were still deadly.  \n",
    "1. https://www.kaggle.com/c/titanic/data  \n",
    "\n",
    "```\n",
    "VARIABLE DESCRIPTIONS:\n",
    "survival        Survival\n",
    "                (0 = No; 1 = Yes)\n",
    "pclass          Passenger Class\n",
    "                (1 = 1st; 2 = 2nd; 3 = 3rd)\n",
    "name            Name\n",
    "sex             Sex\n",
    "age             Age\n",
    "sibsp           Number of Siblings/Spouses Aboard\n",
    "parch           Number of Parents/Children Aboard\n",
    "ticket          Ticket Number\n",
    "fare            Passenger Fare\n",
    "cabin           Cabin\n",
    "embarked        Port of Embarkation\n",
    "                (C = Cherbourg; Q = Queenstown; S = Southampton)\n",
    "SPECIAL NOTES:\n",
    "Pclass is a proxy for socio-economic status (SES)\n",
    " 1st ~ Upper; 2nd ~ Middle; 3rd ~ Lower\n",
    "\n",
    "Age is in Years; Fractional if Age less than One (1)\n",
    " If the Age is Estimated, it is in the form xx.5\n",
    "\n",
    "With respect to the family relation variables (i.e. sibsp and parch)\n",
    "some relations were ignored.\n",
    "```\n",
    "1. https://www.encyclopedia-titanica.org/titanic-victim/stephen-weart-blackwell.html\n",
    "1. https://www.encyclopedia-titanica.org/cabins.html"
   ]
  }
 ],
 "metadata": {
  "anaconda-cloud": {},
  "kernelspec": {
   "display_name": "Python [conda env:udacity-titanic]",
   "language": "python",
   "name": "conda-env-udacity-titanic-py"
  },
  "language_info": {
   "codemirror_mode": {
    "name": "ipython",
    "version": 3
   },
   "file_extension": ".py",
   "mimetype": "text/x-python",
   "name": "python",
   "nbconvert_exporter": "python",
   "pygments_lexer": "ipython3",
   "version": "3.5.2"
  }
 },
 "nbformat": 4,
 "nbformat_minor": 2
}
